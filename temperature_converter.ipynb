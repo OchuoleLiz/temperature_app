{
 "cells": [
  {
   "cell_type": "code",
   "execution_count": 17,
   "id": "f8bd378d",
   "metadata": {},
   "outputs": [
    {
     "name": "stdout",
     "output_type": "stream",
     "text": [
      "Input Degree: 'C' for Celsuis or 'F' for Fahrenheit \n",
      "f\n",
      "Unit is Fahrenheit.\n",
      "Input the temperature to be converted \n",
      "390\n",
      "Input number is:  390.0\n",
      "Converting to Celsius...\n",
      "The temperature in fahrenheit is 390.0 and the temperature in Celsius is 198.88888888888889.\n"
     ]
    }
   ],
   "source": [
    "def convert_temperature(unit, temp):\n",
    "    temp_convert_celsius = ((float(temp) - 32) * 5 / 9)\n",
    "    temp_convert_fahrenheit = ((float(temp) * 1.8) + 32)\n",
    "\n",
    "    if unit == \"C\" and (float(temp) >= 0 or float(temp) <= 0):\n",
    "        print(\"Converting to Fahrenheit...\")\n",
    "        print(\"The temperature in Celsius is \" + str(temp) + \" and the temperature in Fahrenheit is \" + str(\n",
    "            temp_convert_fahrenheit) + \".\")\n",
    "    elif unit == \"F\" and (float(temp) >= 0 or float(temp) <= 0):\n",
    "        print(\"Converting to Celsius...\")\n",
    "        print(\"The temperature in fahrenheit is \" + str(float(temp)) + \" and the temperature in Celsius is \" + str(\n",
    "            temp_convert_celsius) + \".\")\n",
    "    else:\n",
    "        print(\"Invalid Unit\")\n",
    "\n",
    "while True:\n",
    "    unit = str(input(\"Input Degree: 'C' for Celsuis or 'F' for Fahrenheit \\n\")).capitalize()\n",
    "    if unit == \"C\":\n",
    "        print(\"Unit is Celsius.\")\n",
    "        break;\n",
    "    elif unit == \"F\":\n",
    "        print(\"Unit is Fahrenheit.\")\n",
    "        break;\n",
    "    else:\n",
    "        print(\"Invalid Unit.\\nEnter either 'c' for Celsius or 'f' for Fahrenheit\")\n",
    "\n",
    "\n",
    "while True:\n",
    "    temp = input(\"Input the temperature to be converted \\n\")\n",
    "    try:\n",
    "        val = float(temp)\n",
    "        print(\"Input number is: \", val)\n",
    "        break;\n",
    "    except ValueError:\n",
    "        print(\"This is not a Integer.\\nPlease enter a valid Number\")\n",
    "convert_temperature(unit, temp)"
   ]
  },
  {
   "cell_type": "code",
   "execution_count": null,
   "id": "7b1a6700",
   "metadata": {},
   "outputs": [],
   "source": []
  }
 ],
 "metadata": {
  "kernelspec": {
   "display_name": "Python 3 (ipykernel)",
   "language": "python",
   "name": "python3"
  },
  "language_info": {
   "codemirror_mode": {
    "name": "ipython",
    "version": 3
   },
   "file_extension": ".py",
   "mimetype": "text/x-python",
   "name": "python",
   "nbconvert_exporter": "python",
   "pygments_lexer": "ipython3",
   "version": "3.9.7"
  }
 },
 "nbformat": 4,
 "nbformat_minor": 5
}
